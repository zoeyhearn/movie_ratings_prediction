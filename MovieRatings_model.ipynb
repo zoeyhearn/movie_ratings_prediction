{
 "cells": [
  {
   "cell_type": "markdown",
   "metadata": {},
   "source": [
    "<h1> Assignment - Data Science Working Student </h1>"
   ]
  },
  {
   "cell_type": "markdown",
   "metadata": {},
   "source": [
    "***Zoey Hearn***"
   ]
  },
  {
   "cell_type": "code",
   "execution_count": 2,
   "metadata": {},
   "outputs": [],
   "source": [
    "import pandas as pd\n",
    "import numpy as np\n",
    "import random\n",
    "from math import isnan"
   ]
  },
  {
   "cell_type": "markdown",
   "metadata": {},
   "source": [
    "Load and preprocess data."
   ]
  },
  {
   "cell_type": "code",
   "execution_count": 4,
   "metadata": {},
   "outputs": [],
   "source": [
    "df_ratings = pd.read_csv('title.ratings.tsv', sep='\\t')\n",
    "df_basics = pd.read_csv('title.basics.tsv', sep='\\t')\n",
    "df_akas = pd.read_csv('title.akas.tsv', sep='\\t')\n",
    "df_crew = pd.read_csv('title.crew.tsv', sep='\\t')"
   ]
  },
  {
   "cell_type": "code",
   "execution_count": 5,
   "metadata": {},
   "outputs": [],
   "source": [
    "'''The akas data set shows all the different translations of each movie.\n",
    "I recorded this information by counting how many translations each\n",
    "move has'''\n",
    "\n",
    "df_translations = df_akas.groupby(['titleId']).size().reset_index(name='counts')\n",
    "df_translations.columns = ['tconst', 'numTranslations']"
   ]
  },
  {
   "cell_type": "code",
   "execution_count": 6,
   "metadata": {},
   "outputs": [],
   "source": [
    "'''Create dataframe which holds feature information to be used'''\n",
    "\n",
    "df = df_ratings.join(df_basics.set_index('tconst'),on='tconst')\n",
    "df = df.join(df_translations.set_index('tconst'),on='tconst')\n",
    "df = df.join(df_crew.set_index('tconst'),on='tconst')\n",
    "\n",
    "#drop all types except movies\n",
    "df = df[df['titleType'].str.contains(\"movie\")]\n",
    "\n",
    "#drop features that holds irrelevant or sparse information\n",
    "df = df.drop(['isAdult','endYear','writers','titleType'], axis = 1)\n",
    "\n",
    "#drop rows where information is unavailable\n",
    "df = df[pd.notnull(df['runtimeMinutes'])]\n",
    "\n",
    "#Add column which counts how many movies a director directed\n",
    "directorPopularity = df['directors'].value_counts().to_dict()\n",
    "df['directorPopularity'] = df['directors'].map(directorPopularity)\n",
    "\n",
    "#further preprocess data\n",
    "df = df.fillna(1)\n",
    "df = df[df.runtimeMinutes.str.contains(\"\\N\") == False]\n",
    "df = df[df.directors.str.contains(\"\\N\") == False]\n",
    "\n",
    "df = df.reset_index()\n",
    "df = df.drop(['index'],axis = 1)"
   ]
  },
  {
   "cell_type": "markdown",
   "metadata": {},
   "source": [
    "Split dataframe into train and test data. Use 80% of data to train and 20% to test."
   ]
  },
  {
   "cell_type": "code",
   "execution_count": 7,
   "metadata": {},
   "outputs": [],
   "source": [
    "train_df=df.sample(frac=0.80, random_state=200).sort_index()\n",
    "test_df=df.drop(train_df.index).sort_index()"
   ]
  },
  {
   "cell_type": "markdown",
   "metadata": {},
   "source": [
    "Implement a decision tree, which takes into account both continuous and categorical data. For simplicity, divide continuous features into two categories by splitting the data exactly in half, with one category corresponding to the lower half and the other corresponding to the upper half. The categorical data will be split upon whether or not a movie is of a certain genre."
   ]
  },
  {
   "cell_type": "code",
   "execution_count": 8,
   "metadata": {},
   "outputs": [],
   "source": [
    "def split_genre(genre, df):\n",
    "    \"\"\"For categorical data:\n",
    "    This function splits a dataframe (node) into\n",
    "    two child nodes depending on a specified genre\"\"\"\n",
    "    left = df[df['genres'].str.contains(genre)]\n",
    "    right = df.drop(left.index)\n",
    "    return left, right\n",
    "\n",
    "def split_feature(feature, df):\n",
    "    \"\"\"For continuous data:\n",
    "    This function splits the data according to a specified method\n",
    "    which finds the value to split on\"\"\"\n",
    "    value = split_feature_value(feature, df)\n",
    "    left = df[df[feature] <= value]\n",
    "    right = df[df[feature] > value]\n",
    "    return left, right\n",
    "\n",
    "def split_feature_value(feature, df):\n",
    "    \"\"\"This function decides where to split the continuous feature\"\"\"\n",
    "    df_sorted = df.sort_values(by=[feature])\n",
    "    value = df_sorted.iloc[int(.5*len(df))][feature]\n",
    "    return value\n",
    "\n",
    "def split_feature_value2(feature, df):\n",
    "    \"\"\"same as above function\"\"\"\n",
    "    value = (max(df[feature]) - min(df[feature]))/2\n",
    "    return value"
   ]
  },
  {
   "cell_type": "markdown",
   "metadata": {},
   "source": [
    "Minimize the squared error from the mean to find the best split. I define information gain as the difference between the squared error from the mean before and after the split."
   ]
  },
  {
   "cell_type": "code",
   "execution_count": 9,
   "metadata": {},
   "outputs": [],
   "source": [
    "def get_information_gain_genre(genre, df):\n",
    "    \"\"\"\n",
    "    This function compares the squared error from the mean\n",
    "    after the split to the squared error from the mean from \n",
    "    the mean of the parent node using genre as the splitting criterion.\n",
    "    \"\"\"\n",
    "    original_loss = sum((df['averageRating'].mean()-df['averageRating'])**2)/len(df)\n",
    "    left, right = split_genre(genre, df)\n",
    "    left_loss = sum((left['averageRating'].mean()-left['averageRating'])**2)\n",
    "    right_loss = sum((right['averageRating'].mean()-right['averageRating'])**2)\n",
    "    information_gain = original_loss - (left_loss + right_loss)/len(df)\n",
    "    return information_gain\n",
    "\n",
    "def get_information_gain_feature(feature, df):\n",
    "    \"\"\"\n",
    "    Same as above function except it uses feature, instead of genre,\n",
    "    as the splitting criterion.\n",
    "    \"\"\"\n",
    "    original_loss = sum((df['averageRating'].mean()-df['averageRating'])**2)/len(df)\n",
    "    left, right = split_feature(feature, df)\n",
    "    left_loss = sum((left['averageRating'].mean()-left['averageRating'])**2)\n",
    "    right_loss = sum((right['averageRating'].mean()-right['averageRating'])**2)\n",
    "    information_gain = original_loss - (left_loss + right_loss)/len(df)\n",
    "    return information_gain"
   ]
  },
  {
   "cell_type": "markdown",
   "metadata": {},
   "source": [
    "To decide which is the best split, iterate over possible splits, and maximize the information gain."
   ]
  },
  {
   "cell_type": "code",
   "execution_count": 10,
   "metadata": {},
   "outputs": [],
   "source": [
    "features = ['startYear',\n",
    "             'runtimeMinutes',\n",
    "             'numTranslations',\n",
    "             'directorPopularity',\n",
    "             'numVotes']\n",
    "\n",
    "genres = ['Action', 'Adventure', 'Animation', \n",
    "          'Biography', 'Comedy', 'Crime', \n",
    "          'Documentary', 'Drama', 'Fantasy', \n",
    "          'History', 'Horror', 'News', \n",
    "          'Sport', 'Thriller', 'War']\n",
    "\n",
    "def get_split(df):\n",
    "    \"\"\"This function decides whether to split using categorical\n",
    "    or continous data, and which genre/feature to split on,\n",
    "    using a greedy approach. It iterates through all possible\n",
    "    splits and stores the information corresponding to the split\n",
    "    in a dictionary. It then finds the maximum information gain\n",
    "    and returns a dictionary which stores:\n",
    "        information gain, \n",
    "        the split type (whether it uses a categorical or continous split),\n",
    "        the feature or genre that it splits on, \n",
    "        the two child nodes, \n",
    "        and the value corresponding to the regression split.\"\"\"\n",
    "    #create empty dictionary\n",
    "    _dict = {}\n",
    "    for i in genres:\n",
    "        _dict.update({get_information_gain_genre(i,df):['genre', i]})\n",
    "    for i in features:\n",
    "        _dict.update({get_information_gain_feature(i,df):['regression', i]})\n",
    "    _dict = {k: _dict[k] for k in _dict if not isnan(k)}\n",
    "    if _dict[max(_dict.keys())][0] == 'genre':\n",
    "        left, right = split_genre(_dict[max(_dict.keys())][1], df)\n",
    "        #genres.remove(_dict[max(_dict.keys())][1])\n",
    "        value = 0\n",
    "    if _dict[max(_dict.keys())][0] == 'regression':\n",
    "        left, right = split_feature(_dict[max(_dict.keys())][1], df)\n",
    "        value = split_feature_value(_dict[max(_dict.keys())][1], df)\n",
    "    \n",
    "    groups = left, right\n",
    "    return {'gain': max(_dict.keys()), #information gain\n",
    "            'type_split': _dict[max(_dict.keys())][0], #categorical/regression\n",
    "            'feature': _dict[max(_dict.keys())][1], #genre/feature\n",
    "            'groups': groups,\n",
    "            'value': value} #left/right\n",
    "    \n",
    "def get_leaf(split):\n",
    "    \"\"\"\n",
    "    This function finds the average rating corresponding\n",
    "    to the latest split\n",
    "    \"\"\"\n",
    "    return split['averageRating'].mean()\n",
    "\n",
    "def split(node, max_depth, min_size, depth):\n",
    "    \"\"\"\n",
    "    This function recursively splits the data, using the \n",
    "    get_split function, until all nodes are a leaf node\n",
    "    which return the average rating\n",
    "    \"\"\"\n",
    "    left, right = node['groups']\n",
    "    del(node['groups'])\n",
    "    if len(left) == 0 or len(right) ==0:\n",
    "        node['left'] = node['right'] = get_leaf(left + right)\n",
    "        return \n",
    "    if depth >= max_depth:\n",
    "        node['left'], node['right'] = get_leaf(left), get_leaf(right)\n",
    "        return \n",
    "    if len(left) <= min_size:\n",
    "        node['left'] = get_leaf(left)\n",
    "    else:\n",
    "        node['left'] = get_split(left)\n",
    "        split(node['left'], max_depth, min_size, depth+1)\n",
    "    # process right child\n",
    "    if len(right) <= min_size:\n",
    "        node['right'] = get_leaf(right)\n",
    "    else:\n",
    "        node['right'] = get_split(right)\n",
    "        split(node['right'], max_depth, min_size, depth+1)"
   ]
  },
  {
   "cell_type": "markdown",
   "metadata": {},
   "source": [
    "Build decision tree according to splitting criteria."
   ]
  },
  {
   "cell_type": "code",
   "execution_count": 11,
   "metadata": {},
   "outputs": [],
   "source": [
    "def build_tree(train, max_depth, min_size):\n",
    "    \"\"\"\n",
    "    Creates a decision tree which will be used to predict \n",
    "    movie rating.\n",
    "    function directly taken from: \n",
    "    https://machinelearningmastery.com/implement-decision-tree-algorithm-scratch-python/\n",
    "    Returns a nested dictionary\n",
    "    \"\"\"\n",
    "    root = get_split(train)\n",
    "    split(root, max_depth, min_size, 1)\n",
    "    return root\n",
    "\n",
    "def navigate(tree, test):\n",
    "    \"\"\"\n",
    "    This function takes in the decision tree and a movie,\n",
    "    and moves through the tree based on the features of the movie\n",
    "    to return a prediction\n",
    "    \"\"\"\n",
    "    if tree['type_split'] == 'genre':\n",
    "        if tree['feature'] in test['genres']:\n",
    "            if isinstance(tree['left'],float):\n",
    "                return tree['left']\n",
    "            else: \n",
    "                direction = 'left'\n",
    "        else:\n",
    "            if isinstance(tree['right'],float):\n",
    "                return tree['right']\n",
    "            else: \n",
    "                direction = 'right'\n",
    "    else:\n",
    "        if test[tree['feature']] < tree['value']:\n",
    "            if isinstance(tree['left'],float):\n",
    "                return tree['left']\n",
    "            else: \n",
    "                direction = 'left'\n",
    "        else:\n",
    "            if isinstance(tree['right'],float):\n",
    "                return tree['right']\n",
    "            else: \n",
    "                direction = 'right'\n",
    "    return navigate(tree[direction],test)\n",
    "\n",
    "def get_total_loss(tree, test_df):\n",
    "    model_prediction = 0\n",
    "    blind_prediction = 0\n",
    "    for i in range(len(test_df)):\n",
    "        test = test_df.iloc[i]\n",
    "        prediction = navigate(tree, test)\n",
    "        model_prediction += abs(prediction - test['averageRating'])\n",
    "        blind_prediction += abs(train_df['averageRating'].mean() - test['averageRating'])\n",
    "    return model_prediction/len(test_df), blind_prediction/len(test_df)"
   ]
  },
  {
   "cell_type": "markdown",
   "metadata": {},
   "source": [
    "Implement."
   ]
  },
  {
   "cell_type": "code",
   "execution_count": 12,
   "metadata": {},
   "outputs": [
    {
     "name": "stdout",
     "output_type": "stream",
     "text": [
      "('Average distance from actual rating using mean:', 1.0245971312209252)\n",
      "('Average distance from actual rating using model:', 0.8771174047138115)\n"
     ]
    }
   ],
   "source": [
    "max_depth = 10\n",
    "min_leaf = 100\n",
    "tree = build_tree(train_df, max_depth, min_leaf)\n",
    "model_loss, blind_loss = get_total_loss(tree, test_df)\n",
    "print('Average distance from actual rating using mean:', blind_loss)\n",
    "print('Average distance from actual rating using model:', model_loss)"
   ]
  },
  {
   "cell_type": "markdown",
   "metadata": {},
   "source": [
    "Now I'm going to see if I can improve these results by implementing a (small) forrest. Train 10 trees on randomly chosen subsets of the data. Predict rating based on average prediction from each tree."
   ]
  },
  {
   "cell_type": "code",
   "execution_count": 13,
   "metadata": {},
   "outputs": [],
   "source": [
    "'''Create forrest.'''\n",
    "\n",
    "#hyper parameters\n",
    "num_trees = 15\n",
    "frac_data = .01\n",
    "max_depth = 5\n",
    "min_leaf = 50\n",
    "\n",
    "forrest = []\n",
    "for i in range(num_trees):\n",
    "    train = train_df.sample(frac = 0.01)\n",
    "    tree = build_tree(train, 10, 50)\n",
    "    forrest.append(tree)"
   ]
  },
  {
   "cell_type": "code",
   "execution_count": 14,
   "metadata": {},
   "outputs": [],
   "source": [
    "def get_prediction(forrest, test):\n",
    "    '''Function that takes a sample and runs it through all the \n",
    "    decision trees in the forrest and outputs the mean prediction'''\n",
    "    predictions = []\n",
    "    for i in forrest:\n",
    "        prediction = navigate(i, test)\n",
    "        predictions.append(prediction)\n",
    "    return np.mean(predictions)"
   ]
  },
  {
   "cell_type": "code",
   "execution_count": 15,
   "metadata": {},
   "outputs": [],
   "source": [
    "def get_total_loss(forrest, test_df):\n",
    "    \"\"\"Finds the average distance from the correct rating\n",
    "    for a test dataframe, based on the predictions from the forrest\"\"\"\n",
    "    model_prediction = 0\n",
    "    for i in range(len(test_df)):\n",
    "        test = test_df.iloc[i]\n",
    "        prediction = get_prediction(forrest, test)\n",
    "        model_prediction += abs(prediction - test['averageRating'])\n",
    "    return model_prediction/len(test_df)"
   ]
  },
  {
   "cell_type": "code",
   "execution_count": 16,
   "metadata": {},
   "outputs": [],
   "source": [
    "forrest_loss = get_total_loss(forrest, test_df)"
   ]
  },
  {
   "cell_type": "code",
   "execution_count": 17,
   "metadata": {},
   "outputs": [
    {
     "name": "stdout",
     "output_type": "stream",
     "text": [
      "('Average distance from actual rating using forrest:', 0.8919985090910499)\n"
     ]
    }
   ],
   "source": [
    "print('Average distance from actual rating using forrest:', forrest_loss)"
   ]
  },
  {
   "cell_type": "code",
   "execution_count": null,
   "metadata": {},
   "outputs": [],
   "source": []
  },
  {
   "cell_type": "code",
   "execution_count": null,
   "metadata": {},
   "outputs": [],
   "source": []
  },
  {
   "cell_type": "code",
   "execution_count": null,
   "metadata": {},
   "outputs": [],
   "source": []
  }
 ],
 "metadata": {
  "kernelspec": {
   "display_name": "Python 2",
   "language": "python",
   "name": "python2"
  },
  "language_info": {
   "codemirror_mode": {
    "name": "ipython",
    "version": 2
   },
   "file_extension": ".py",
   "mimetype": "text/x-python",
   "name": "python",
   "nbconvert_exporter": "python",
   "pygments_lexer": "ipython2",
   "version": "2.7.15"
  }
 },
 "nbformat": 4,
 "nbformat_minor": 2
}
